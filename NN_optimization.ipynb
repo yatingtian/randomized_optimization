{
 "cells": [
  {
   "cell_type": "code",
   "execution_count": 28,
   "metadata": {},
   "outputs": [],
   "source": [
    "import mlrose_hiive\n",
    "import matplotlib.pyplot as plt\n",
    "import numpy as np\n",
    "import pandas as pd\n",
    "from sklearn.preprocessing import StandardScaler\n",
    "from sklearn.preprocessing import LabelEncoder\n",
    "from sklearn.model_selection import train_test_split\n",
    "from sklearn.neural_network import MLPClassifier\n",
    "from sklearn.metrics import roc_auc_score, roc_curve, auc, accuracy_score, f1_score, precision_score,recall_score\n",
    "import time\n"
   ]
  },
  {
   "cell_type": "markdown",
   "metadata": {},
   "source": [
    "## Wine Data"
   ]
  },
  {
   "cell_type": "code",
   "execution_count": 133,
   "metadata": {},
   "outputs": [],
   "source": [
    "df = pd.read_csv('winequalityN.csv')\n",
    "df_red = df[df['type']=='red'].reset_index(drop=True)\n",
    "df_red['target'] = df_red['quality'].apply(lambda x : 1 if x >= 6 else 0)\n",
    "df_red = df_red.drop(['type', 'quality'], axis=1)\n",
    "df_red = df_red.dropna()\n",
    "X_cols = [x for x in df_red.columns if x!= 'target']\n",
    "scaler = StandardScaler(with_std = False)\n",
    "df_red_std = pd.DataFrame(scaler.fit_transform(df_red[X_cols]), columns= X_cols) \n",
    "X_train, X_test, y_train, y_test = train_test_split(df_red_std[X_cols], df_red['target'], test_size=0.3, random_state=0)"
   ]
  },
  {
   "cell_type": "markdown",
   "metadata": {},
   "source": [
    "# NN Model\n",
    "\n",
    "## 1. Backprop"
   ]
  },
  {
   "cell_type": "code",
   "execution_count": 237,
   "metadata": {},
   "outputs": [],
   "source": [
    "time_dict = {}\n",
    "test_dict = {}"
   ]
  },
  {
   "cell_type": "code",
   "execution_count": 197,
   "metadata": {},
   "outputs": [],
   "source": [
    "def get_metrics(y_true, y_pred):\n",
    "    metrics = {}\n",
    "    print('Accuracy:  {:2.2%} '.format(accuracy_score(y_true, y_pred)))\n",
    "    print('Precision: {:2.2%} '.format(precision_score(y_true, y_pred)))\n",
    "    print('Recall:    {:2.2%} '.format(recall_score(y_true, y_pred)))\n",
    "    print('F1 Score:  {:2.2%} '.format(f1_score(y_true, y_pred)))\n",
    "    print('AUC Score: {:2.2%} '.format(roc_auc_score(y_true, y_pred)))\n",
    "    \n",
    "    metrics['Accuracy'] = accuracy_score(y_true, y_pred)\n",
    "    metrics['Precision'] = precision_score(y_true, y_pred)\n",
    "    metrics['Recall'] = recall_score(y_true, y_pred)\n",
    "    metrics['F1 Score'] = f1_score(y_true, y_pred)\n",
    "    metrics['AUC Score'] = roc_auc_score(y_true, y_pred)\n",
    "    \n",
    "    return metrics\n",
    "    "
   ]
  },
  {
   "cell_type": "code",
   "execution_count": 236,
   "metadata": {},
   "outputs": [
    {
     "name": "stdout",
     "output_type": "stream",
     "text": [
      "CPU times: user 9.63 s, sys: 2.75 s, total: 12.4 s\n",
      "Wall time: 1.81 s\n"
     ]
    }
   ],
   "source": [
    "%%time\n",
    "# Regenerate HW1 NN using mlrose\n",
    "start = time.time()\n",
    "nn_model_backprop = mlrose_hiive.NeuralNetwork(hidden_nodes = [12], activation ='relu', \n",
    "                                                algorithm ='gradient_descent', \n",
    "                                                max_iters = 1000, bias = True, is_classifier = True, \n",
    "                                                learning_rate = 0.00001, early_stopping = True, \n",
    "                                                max_attempts = 1000, random_state = 123, \n",
    "                                                curve = True)\n",
    "nn_model_backprop.fit(X_train, y_train)\n",
    "end = time.time()\n",
    "time_dict['Backprop'] = end - start"
   ]
  },
  {
   "cell_type": "code",
   "execution_count": 239,
   "metadata": {},
   "outputs": [],
   "source": [
    "y_test_pred = nn_model_backprop.predict(X_test)"
   ]
  },
  {
   "cell_type": "code",
   "execution_count": 240,
   "metadata": {},
   "outputs": [
    {
     "name": "stdout",
     "output_type": "stream",
     "text": [
      "Accuracy:  70.29% \n",
      "Precision: 70.38% \n",
      "Recall:    73.79% \n",
      "F1 Score:  72.05% \n",
      "AUC Score: 70.16% \n"
     ]
    }
   ],
   "source": [
    "test_dict['Backprop'] = get_metrics(y_test, y_test_pred)"
   ]
  },
  {
   "cell_type": "code",
   "execution_count": 200,
   "metadata": {},
   "outputs": [
    {
     "data": {
      "text/plain": [
       "Text(0.5, 1.0, 'Loss Curve (Backprop)')"
      ]
     },
     "execution_count": 200,
     "metadata": {},
     "output_type": "execute_result"
    },
    {
     "data": {
      "image/png": "[encoded data removed]",
      "text/plain": [
       "<Figure size 432x288 with 1 Axes>"
      ]
     },
     "metadata": {
      "needs_background": "light"
     },
     "output_type": "display_data"
    }
   ],
   "source": [
    "plt.plot(-nn_model_backprop.fitness_curve, label='Train Loss')\n",
    "nn_model_backprop.fit(X_test, y_test)\n",
    "plt.plot(-nn_model_backprop.fitness_curve, label='Test Loss')\n",
    "plt.legend()\n",
    "plt.grid()\n",
    "plt.xlabel('#Iterations')\n",
    "plt.ylabel('Loss')\n",
    "plt.title('Loss Curve (Backprop)')"
   ]
  },
  {
   "cell_type": "markdown",
   "metadata": {},
   "source": [
    "## 2. RHC"
   ]
  },
  {
   "cell_type": "code",
   "execution_count": 226,
   "metadata": {},
   "outputs": [
    {
     "name": "stdout",
     "output_type": "stream",
     "text": [
      "CPU times: user 52 µs, sys: 1e+03 ns, total: 53 µs\n",
      "Wall time: 58.9 µs\n"
     ]
    }
   ],
   "source": [
    "%%time\n",
    "\n",
    "nn_model_rhc = mlrose_hiive.NeuralNetwork(hidden_nodes = [12], activation ='relu', \n",
    "                                        algorithm ='random_hill_climb', \n",
    "                                        max_iters = 5000, bias = True, is_classifier = True, \n",
    "                                        learning_rate = 0.00001, early_stopping = True, \n",
    "                                        max_attempts = 1000, random_state = 123, curve = True)\n"
   ]
  },
  {
   "cell_type": "code",
   "execution_count": 241,
   "metadata": {},
   "outputs": [
    {
     "name": "stdout",
     "output_type": "stream",
     "text": [
      "Accuracy:  47.28% \n",
      "Precision: 49.46% \n",
      "Recall:    74.19% \n",
      "F1 Score:  59.35% \n",
      "AUC Score: 46.23% \n"
     ]
    },
    {
     "data": {
      "text/plain": [
       "Text(0.5, 1.0, 'Loss Curve (RHC)')"
      ]
     },
     "execution_count": 241,
     "metadata": {},
     "output_type": "execute_result"
    },
    {
     "data": {
      "image/png": "[encoded data removed]",
      "text/plain": [
       "<Figure size 432x288 with 1 Axes>"
      ]
     },
     "metadata": {
      "needs_background": "light"
     },
     "output_type": "display_data"
    }
   ],
   "source": [
    "start = time.time()\n",
    "nn_model_rhc.fit(X_train, y_train)\n",
    "end = time.time()\n",
    "time_dict['RHC'] = end-start\n",
    "plt.plot(nn_model_rhc.fitness_curve[:,0], label='Train Loss')\n",
    "\n",
    "y_test_pred = nn_model_rhc.predict(X_test)\n",
    "test_dict['RHC'] = get_metrics(y_test, y_test_pred)\n",
    "\n",
    "nn_model_rhc.fit(X_test, y_test)\n",
    "plt.plot(nn_model_rhc.fitness_curve[:,0], label='Test Loss')\n",
    "plt.grid()\n",
    "plt.legend()\n",
    "plt.xlabel('#Iterations')\n",
    "plt.ylabel('Loss')\n",
    "plt.title('Loss Curve (RHC)')"
   ]
  },
  {
   "cell_type": "code",
   "execution_count": 225,
   "metadata": {},
   "outputs": [
    {
     "data": {
      "text/plain": [
       "[<matplotlib.lines.Line2D at 0x7ff0f40a13d0>]"
      ]
     },
     "execution_count": 225,
     "metadata": {},
     "output_type": "execute_result"
    },
    {
     "data": {
      "image/png": "[encoded data removed]",
      "text/plain": [
       "<Figure size 432x288 with 1 Axes>"
      ]
     },
     "metadata": {
      "needs_background": "light"
     },
     "output_type": "display_data"
    }
   ],
   "source": [
    "nn_model_rhc.fit(X_train, y_train)\n",
    "plt.plot(nn_model_rhc.fitness_curve[:,0], label='Train Loss')"
   ]
  },
  {
   "cell_type": "code",
   "execution_count": 167,
   "metadata": {},
   "outputs": [],
   "source": [
    "y_train_pred = nn_model_rhc.predict(X_train)"
   ]
  },
  {
   "cell_type": "code",
   "execution_count": 168,
   "metadata": {},
   "outputs": [
    {
     "name": "stdout",
     "output_type": "stream",
     "text": [
      "Accuracy:  48.97% \n",
      "Precision: 65.45% \n",
      "Recall:    11.94% \n",
      "F1 Score:  20.20% \n",
      "AUC Score: 52.26% \n"
     ]
    },
    {
     "data": {
      "text/plain": [
       "{'Accuracy': 0.4896860986547085,\n",
       " 'Precision': 0.6545454545454545,\n",
       " 'Recall': 0.11940298507462686,\n",
       " 'F1 Score': 0.20196353436185133,\n",
       " 'AUC Score': 0.5225921175373134}"
      ]
     },
     "execution_count": 168,
     "metadata": {},
     "output_type": "execute_result"
    }
   ],
   "source": [
    "get_metrics(y_train, y_train_pred)"
   ]
  },
  {
   "cell_type": "markdown",
   "metadata": {},
   "source": [
    "## 3. SA"
   ]
  },
  {
   "cell_type": "code",
   "execution_count": 220,
   "metadata": {},
   "outputs": [
    {
     "name": "stdout",
     "output_type": "stream",
     "text": [
      "CPU times: user 52 µs, sys: 1 µs, total: 53 µs\n",
      "Wall time: 58.2 µs\n"
     ]
    }
   ],
   "source": [
    "%%time\n",
    "\n",
    "nn_model_sa = mlrose_hiive.NeuralNetwork(hidden_nodes = [12], activation ='relu', \n",
    "                                        algorithm ='simulated_annealing', \n",
    "                                        max_iters = 5000, bias = True, is_classifier = True, \n",
    "                                        learning_rate = 0.00001, early_stopping = True, \n",
    "                                        max_attempts = 1000, random_state = 42, curve = True)\n",
    "\n"
   ]
  },
  {
   "cell_type": "code",
   "execution_count": 242,
   "metadata": {},
   "outputs": [
    {
     "name": "stdout",
     "output_type": "stream",
     "text": [
      "Accuracy:  48.74% \n",
      "Precision: 54.05% \n",
      "Recall:    8.06% \n",
      "F1 Score:  14.04% \n",
      "AUC Score: 50.34% \n"
     ]
    },
    {
     "data": {
      "text/plain": [
       "Text(0.5, 1.0, 'Loss Curve (SA)')"
      ]
     },
     "execution_count": 242,
     "metadata": {},
     "output_type": "execute_result"
    },
    {
     "data": {
      "image/png": "[encoded data removed]",
      "text/plain": [
       "<Figure size 432x288 with 1 Axes>"
      ]
     },
     "metadata": {
      "needs_background": "light"
     },
     "output_type": "display_data"
    }
   ],
   "source": [
    "start = time.time()\n",
    "nn_model_sa.fit(X_train, y_train)\n",
    "end = time.time()\n",
    "time_dict['SA'] = end - start\n",
    "plt.plot(nn_model_sa.fitness_curve[:,0], label='Train Loss')\n",
    "\n",
    "y_test_pred = nn_model_sa.predict(X_test)\n",
    "test_dict['SA'] = get_metrics(y_test, y_test_pred)\n",
    "\n",
    "nn_model_sa.fit(X_test, y_test)\n",
    "plt.plot(nn_model_sa.fitness_curve[:,0], label='Test Loss')\n",
    "plt.grid()\n",
    "plt.xlabel('#Iterations')\n",
    "plt.ylabel('Loss')\n",
    "plt.title('Loss Curve (SA)')"
   ]
  },
  {
   "cell_type": "code",
   "execution_count": 222,
   "metadata": {},
   "outputs": [
    {
     "data": {
      "text/plain": [
       "Text(0.5, 1.0, 'Loss Curve (SA)')"
      ]
     },
     "execution_count": 222,
     "metadata": {},
     "output_type": "execute_result"
    },
    {
     "data": {
      "image/png": "[encoded data removed]",
      "text/plain": [
       "<Figure size 432x288 with 1 Axes>"
      ]
     },
     "metadata": {
      "needs_background": "light"
     },
     "output_type": "display_data"
    }
   ],
   "source": [
    "nn_model_sa.fit(X_train, y_train)\n",
    "plt.plot(nn_model_sa.fitness_curve[:,0], label='Train Loss')\n",
    "plt.grid()\n",
    "plt.xlabel('#Iterations')\n",
    "plt.ylabel('Loss')\n",
    "plt.title('Loss Curve (SA)')"
   ]
  },
  {
   "cell_type": "code",
   "execution_count": 180,
   "metadata": {},
   "outputs": [],
   "source": [
    "y_train_pred = nn_model_sa.predict(X_train)"
   ]
  },
  {
   "cell_type": "code",
   "execution_count": 181,
   "metadata": {},
   "outputs": [
    {
     "name": "stdout",
     "output_type": "stream",
     "text": [
      "Accuracy:  48.97% \n",
      "Precision: 65.45% \n",
      "Recall:    11.94% \n",
      "F1 Score:  20.20% \n",
      "AUC Score: 52.26% \n"
     ]
    },
    {
     "data": {
      "text/plain": [
       "{'Accuracy': 0.4896860986547085,\n",
       " 'Precision': 0.6545454545454545,\n",
       " 'Recall': 0.11940298507462686,\n",
       " 'F1 Score': 0.20196353436185133,\n",
       " 'AUC Score': 0.5225921175373134}"
      ]
     },
     "execution_count": 181,
     "metadata": {},
     "output_type": "execute_result"
    }
   ],
   "source": [
    "get_metrics(y_train, y_train_pred)"
   ]
  },
  {
   "cell_type": "markdown",
   "metadata": {},
   "source": [
    "## 3. GA"
   ]
  },
  {
   "cell_type": "code",
   "execution_count": 228,
   "metadata": {},
   "outputs": [
    {
     "name": "stdout",
     "output_type": "stream",
     "text": [
      "CPU times: user 42 µs, sys: 1e+03 ns, total: 43 µs\n",
      "Wall time: 48.9 µs\n"
     ]
    }
   ],
   "source": [
    "%%time\n",
    "\n",
    "nn_model_ga = mlrose_hiive.NeuralNetwork(hidden_nodes = [12], activation ='relu', \n",
    "                                        algorithm ='genetic_alg', \n",
    "                                        max_iters = 1000, bias = True, is_classifier = True, \n",
    "                                        learning_rate = 0.00001, early_stopping = True, \n",
    "                                        max_attempts = 1000, random_state = 42, curve = True)\n"
   ]
  },
  {
   "cell_type": "code",
   "execution_count": 243,
   "metadata": {},
   "outputs": [
    {
     "name": "stdout",
     "output_type": "stream",
     "text": [
      "Accuracy:  58.79% \n",
      "Precision: 74.76% \n",
      "Recall:    31.05% \n",
      "F1 Score:  43.87% \n",
      "AUC Score: 59.87% \n"
     ]
    },
    {
     "data": {
      "image/png": "[encoded data removed]",
      "text/plain": [
       "<Figure size 432x288 with 1 Axes>"
      ]
     },
     "metadata": {
      "needs_background": "light"
     },
     "output_type": "display_data"
    }
   ],
   "source": [
    "start = time.time()\n",
    "nn_model_ga.fit(X_train, y_train)\n",
    "end = time.time()\n",
    "time_dict['GA'] = end - start\n",
    "plt.plot(nn_model_ga.fitness_curve[:,0], label='Train Loss')\n",
    "\n",
    "y_test_pred = nn_model_ga.predict(X_test)\n",
    "test_dict['GA'] = get_metrics(y_test, y_test_pred)\n",
    "\n",
    "nn_model_ga.fit(X_test, y_test)\n",
    "plt.plot(nn_model_ga.fitness_curve[:,0], label='Test Loss')\n",
    "plt.grid()\n",
    "plt.legend()\n",
    "plt.xlabel('#Iterations')\n",
    "plt.ylabel('Loss')\n",
    "plt.title('Loss Curve (GA)')\n",
    "plt.show()"
   ]
  },
  {
   "cell_type": "code",
   "execution_count": 244,
   "metadata": {},
   "outputs": [
    {
     "data": {
      "text/plain": [
       "{'Backprop': 1.8050830364227295,\n",
       " 'RHC': 5.0539939403533936,\n",
       " 'sa': 1.3710319995880127,\n",
       " 'SA': 6.649356842041016,\n",
       " 'GA': 143.56051206588745}"
      ]
     },
     "execution_count": 244,
     "metadata": {},
     "output_type": "execute_result"
    }
   ],
   "source": [
    "time_dict"
   ]
  },
  {
   "cell_type": "code",
   "execution_count": 245,
   "metadata": {},
   "outputs": [
    {
     "data": {
      "text/plain": [
       "{'Backprop': {'Accuracy': 0.702928870292887,\n",
       "  'Precision': 0.7038461538461539,\n",
       "  'Recall': 0.7379032258064516,\n",
       "  'F1 Score': 0.7204724409448819,\n",
       "  'AUC Score': 0.7015603085553996},\n",
       " 'RHC': {'Accuracy': 0.47280334728033474,\n",
       "  'Precision': 0.4946236559139785,\n",
       "  'Recall': 0.7419354838709677,\n",
       "  'F1 Score': 0.5935483870967743,\n",
       "  'AUC Score': 0.46227208976157075},\n",
       " 'SA': {'Accuracy': 0.4874476987447699,\n",
       "  'Precision': 0.5405405405405406,\n",
       "  'Recall': 0.08064516129032258,\n",
       "  'F1 Score': 0.14035087719298245,\n",
       "  'AUC Score': 0.5033660589060308},\n",
       " 'GA': {'Accuracy': 0.5878661087866108,\n",
       "  'Precision': 0.7475728155339806,\n",
       "  'Recall': 0.31048387096774194,\n",
       "  'F1 Score': 0.43874643874643876,\n",
       "  'AUC Score': 0.5987201963534361}}"
      ]
     },
     "execution_count": 245,
     "metadata": {},
     "output_type": "execute_result"
    }
   ],
   "source": [
    "test_dict"
   ]
  },
  {
   "cell_type": "code",
   "execution_count": 255,
   "metadata": {},
   "outputs": [
    {
     "data": {
      "text/html": [
       "<div>\n",
       "<style scoped>\n",
       "    .dataframe tbody tr th:only-of-type {\n",
       "        vertical-align: middle;\n",
       "    }\n",
       "\n",
       "    .dataframe tbody tr th {\n",
       "        vertical-align: top;\n",
       "    }\n",
       "\n",
       "    .dataframe thead th {\n",
       "        text-align: right;\n",
       "    }\n",
       "</style>\n",
       "<table border=\"1\" class=\"dataframe\">\n",
       "  <thead>\n",
       "    <tr style=\"text-align: right;\">\n",
       "      <th></th>\n",
       "      <th>Accuracy</th>\n",
       "      <th>Precision</th>\n",
       "      <th>Recall</th>\n",
       "      <th>F1 Score</th>\n",
       "      <th>AUC Score</th>\n",
       "    </tr>\n",
       "  </thead>\n",
       "  <tbody>\n",
       "    <tr>\n",
       "      <th>Backprop</th>\n",
       "      <td>0.702929</td>\n",
       "      <td>0.703846</td>\n",
       "      <td>0.737903</td>\n",
       "      <td>0.720472</td>\n",
       "      <td>0.701560</td>\n",
       "    </tr>\n",
       "    <tr>\n",
       "      <th>GA</th>\n",
       "      <td>0.587866</td>\n",
       "      <td>0.747573</td>\n",
       "      <td>0.310484</td>\n",
       "      <td>0.438746</td>\n",
       "      <td>0.598720</td>\n",
       "    </tr>\n",
       "    <tr>\n",
       "      <th>SA</th>\n",
       "      <td>0.487448</td>\n",
       "      <td>0.540541</td>\n",
       "      <td>0.080645</td>\n",
       "      <td>0.140351</td>\n",
       "      <td>0.503366</td>\n",
       "    </tr>\n",
       "    <tr>\n",
       "      <th>RHC</th>\n",
       "      <td>0.472803</td>\n",
       "      <td>0.494624</td>\n",
       "      <td>0.741935</td>\n",
       "      <td>0.593548</td>\n",
       "      <td>0.462272</td>\n",
       "    </tr>\n",
       "  </tbody>\n",
       "</table>\n",
       "</div>"
      ],
      "text/plain": [
       "          Accuracy  Precision    Recall  F1 Score  AUC Score\n",
       "Backprop  0.702929   0.703846  0.737903  0.720472   0.701560\n",
       "GA        0.587866   0.747573  0.310484  0.438746   0.598720\n",
       "SA        0.487448   0.540541  0.080645  0.140351   0.503366\n",
       "RHC       0.472803   0.494624  0.741935  0.593548   0.462272"
      ]
     },
     "execution_count": 255,
     "metadata": {},
     "output_type": "execute_result"
    }
   ],
   "source": [
    "out_df = pd.DataFrame(test_dict).T.sort_values('Accuracy', ascending=False)\n",
    "out_df"
   ]
  },
  {
   "cell_type": "code",
   "execution_count": 252,
   "metadata": {},
   "outputs": [],
   "source": [
    "del time_dict['sa']"
   ]
  },
  {
   "cell_type": "code",
   "execution_count": 256,
   "metadata": {},
   "outputs": [],
   "source": [
    "out_df['time'] = pd.Series(time_dict).T"
   ]
  },
  {
   "cell_type": "code",
   "execution_count": 258,
   "metadata": {},
   "outputs": [
    {
     "data": {
      "text/html": [
       "<div>\n",
       "<style scoped>\n",
       "    .dataframe tbody tr th:only-of-type {\n",
       "        vertical-align: middle;\n",
       "    }\n",
       "\n",
       "    .dataframe tbody tr th {\n",
       "        vertical-align: top;\n",
       "    }\n",
       "\n",
       "    .dataframe thead th {\n",
       "        text-align: right;\n",
       "    }\n",
       "</style>\n",
       "<table border=\"1\" class=\"dataframe\">\n",
       "  <thead>\n",
       "    <tr style=\"text-align: right;\">\n",
       "      <th></th>\n",
       "      <th>Accuracy</th>\n",
       "      <th>AUC Score</th>\n",
       "      <th>time</th>\n",
       "    </tr>\n",
       "  </thead>\n",
       "  <tbody>\n",
       "    <tr>\n",
       "      <th>Backprop</th>\n",
       "      <td>0.702929</td>\n",
       "      <td>0.701560</td>\n",
       "      <td>1.805083</td>\n",
       "    </tr>\n",
       "    <tr>\n",
       "      <th>GA</th>\n",
       "      <td>0.587866</td>\n",
       "      <td>0.598720</td>\n",
       "      <td>143.560512</td>\n",
       "    </tr>\n",
       "    <tr>\n",
       "      <th>SA</th>\n",
       "      <td>0.487448</td>\n",
       "      <td>0.503366</td>\n",
       "      <td>6.649357</td>\n",
       "    </tr>\n",
       "    <tr>\n",
       "      <th>RHC</th>\n",
       "      <td>0.472803</td>\n",
       "      <td>0.462272</td>\n",
       "      <td>5.053994</td>\n",
       "    </tr>\n",
       "  </tbody>\n",
       "</table>\n",
       "</div>"
      ],
      "text/plain": [
       "          Accuracy  AUC Score        time\n",
       "Backprop  0.702929   0.701560    1.805083\n",
       "GA        0.587866   0.598720  143.560512\n",
       "SA        0.487448   0.503366    6.649357\n",
       "RHC       0.472803   0.462272    5.053994"
      ]
     },
     "execution_count": 258,
     "metadata": {},
     "output_type": "execute_result"
    }
   ],
   "source": [
    "out_df[['Accuracy', 'AUC Score', 'time']]"
   ]
  },
  {
   "cell_type": "code",
   "execution_count": 259,
   "metadata": {},
   "outputs": [
    {
     "data": {
      "text/html": [
       "<div>\n",
       "<style scoped>\n",
       "    .dataframe tbody tr th:only-of-type {\n",
       "        vertical-align: middle;\n",
       "    }\n",
       "\n",
       "    .dataframe tbody tr th {\n",
       "        vertical-align: top;\n",
       "    }\n",
       "\n",
       "    .dataframe thead th {\n",
       "        text-align: right;\n",
       "    }\n",
       "</style>\n",
       "<table border=\"1\" class=\"dataframe\">\n",
       "  <thead>\n",
       "    <tr style=\"text-align: right;\">\n",
       "      <th></th>\n",
       "      <th>Accuracy</th>\n",
       "      <th>Precision</th>\n",
       "      <th>Recall</th>\n",
       "      <th>F1 Score</th>\n",
       "      <th>AUC Score</th>\n",
       "      <th>time</th>\n",
       "    </tr>\n",
       "  </thead>\n",
       "  <tbody>\n",
       "    <tr>\n",
       "      <th>Backprop</th>\n",
       "      <td>0.702929</td>\n",
       "      <td>0.703846</td>\n",
       "      <td>0.737903</td>\n",
       "      <td>0.720472</td>\n",
       "      <td>0.701560</td>\n",
       "      <td>1.805083</td>\n",
       "    </tr>\n",
       "    <tr>\n",
       "      <th>GA</th>\n",
       "      <td>0.587866</td>\n",
       "      <td>0.747573</td>\n",
       "      <td>0.310484</td>\n",
       "      <td>0.438746</td>\n",
       "      <td>0.598720</td>\n",
       "      <td>143.560512</td>\n",
       "    </tr>\n",
       "    <tr>\n",
       "      <th>SA</th>\n",
       "      <td>0.487448</td>\n",
       "      <td>0.540541</td>\n",
       "      <td>0.080645</td>\n",
       "      <td>0.140351</td>\n",
       "      <td>0.503366</td>\n",
       "      <td>6.649357</td>\n",
       "    </tr>\n",
       "    <tr>\n",
       "      <th>RHC</th>\n",
       "      <td>0.472803</td>\n",
       "      <td>0.494624</td>\n",
       "      <td>0.741935</td>\n",
       "      <td>0.593548</td>\n",
       "      <td>0.462272</td>\n",
       "      <td>5.053994</td>\n",
       "    </tr>\n",
       "  </tbody>\n",
       "</table>\n",
       "</div>"
      ],
      "text/plain": [
       "          Accuracy  Precision    Recall  F1 Score  AUC Score        time\n",
       "Backprop  0.702929   0.703846  0.737903  0.720472   0.701560    1.805083\n",
       "GA        0.587866   0.747573  0.310484  0.438746   0.598720  143.560512\n",
       "SA        0.487448   0.540541  0.080645  0.140351   0.503366    6.649357\n",
       "RHC       0.472803   0.494624  0.741935  0.593548   0.462272    5.053994"
      ]
     },
     "execution_count": 259,
     "metadata": {},
     "output_type": "execute_result"
    }
   ],
   "source": [
    "out_df"
   ]
  },
  {
   "cell_type": "code",
   "execution_count": null,
   "metadata": {},
   "outputs": [],
   "source": []
  }
 ],
 "metadata": {
  "kernelspec": {
   "display_name": "Python 3",
   "language": "python",
   "name": "python3"
  },
  "language_info": {
   "codemirror_mode": {
    "name": "ipython",
    "version": 3
   },
   "file_extension": ".py",
   "mimetype": "text/x-python",
   "name": "python",
   "nbconvert_exporter": "python",
   "pygments_lexer": "ipython3",
   "version": "3.7.9"
  }
 },
 "nbformat": 4,
 "nbformat_minor": 4
}
